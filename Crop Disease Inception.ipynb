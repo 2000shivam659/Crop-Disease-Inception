{
  "cells": [
    {
      "cell_type": "markdown",
      "metadata": {
        "id": "PcvTWDCN9Zuq"
      },
      "source": [
        "**Tomato Leaf Disease Prediction**"
      ]
    },
    {
      "cell_type": "markdown",
      "metadata": {
        "id": "dh7Srgtym-dj"
      },
      "source": [
        "https://github.com/krishnaik06/Tomato-Leaf-Disease-Prediction/blob/master/Transfer%20Learning%20Inception%20V3.ipynb"
      ]
    },
    {
      "cell_type": "markdown",
      "source": [
        "https://www.kaggle.com/datasets/kaustubhb999/tomatoleaf/code"
      ],
      "metadata": {
        "id": "eTvpMMFI4XTO"
      }
    },
    {
      "cell_type": "code",
      "execution_count": 1,
      "metadata": {
        "id": "gv9BQvtEu4vB"
      },
      "outputs": [],
      "source": [
        "!mkdir -p ~/.kaggle\n",
        "!cp kaggle.json ~/.kaggle/"
      ]
    },
    {
      "cell_type": "code",
      "execution_count": 2,
      "metadata": {
        "colab": {
          "base_uri": "https://localhost:8080/"
        },
        "id": "B5Djn17S9c8E",
        "outputId": "14034594-441a-4727-9437-5d27f9b351b4"
      },
      "outputs": [
        {
          "output_type": "stream",
          "name": "stdout",
          "text": [
            "Warning: Your Kaggle API key is readable by other users on this system! To fix this, you can run 'chmod 600 /root/.kaggle/kaggle.json'\n",
            "Downloading tomato.zip to /content\n",
            " 98% 729M/743M [00:08<00:00, 125MB/s]\n",
            "100% 743M/743M [00:08<00:00, 93.9MB/s]\n"
          ]
        }
      ],
      "source": [
        "!kaggle datasets download -d noulam/tomato"
      ]
    },
    {
      "cell_type": "code",
      "execution_count": 3,
      "metadata": {
        "id": "oj0-FE3u9iRd"
      },
      "outputs": [],
      "source": [
        "import zipfile\n",
        "zip_ref = zipfile.ZipFile('/content/tomato.zip')\n",
        "zip_ref.extractall('/content')\n",
        "zip_ref.close()"
      ]
    },
    {
      "cell_type": "code",
      "execution_count": 4,
      "metadata": {
        "id": "8mtRbcWu91UU"
      },
      "outputs": [],
      "source": [
        "import tensorflow as tf\n",
        "from tensorflow import keras\n",
        "\n",
        "from keras.models import Model\n",
        "from keras.applications.inception_v3 import InceptionV3\n",
        "from keras.applications.inception_v3 import preprocess_input\n",
        "\n",
        "from keras import Sequential\n",
        "from keras.layers import Dense,MaxPooling2D,Conv2D,Flatten,BatchNormalization,Dropout,BatchNormalization\n",
        "from keras.preprocessing.image import ImageDataGenerator\n",
        "from glob import glob"
      ]
    },
    {
      "cell_type": "code",
      "execution_count": 5,
      "metadata": {
        "id": "XmXLuWeNZ2GU"
      },
      "outputs": [],
      "source": [
        "# Create CNN model\n",
        "\n",
        "model = Sequential()\n",
        "inputShape=(256,256,3)\n",
        "chanDim=-1\n",
        "\n",
        "model.add(Conv2D(128, (3, 3), padding=\"same\", activation=\"relu\", input_shape=inputShape))\n",
        "model.add(BatchNormalization(axis=chanDim))\n",
        "model.add(MaxPooling2D(pool_size=(3, 3)))\n",
        "model.add(Dropout(0.25))\n",
        "\n",
        "model.add(Conv2D(128, (3, 3), padding=\"same\", activation=\"relu\"))\n",
        "model.add(BatchNormalization(axis=chanDim))\n",
        "\n",
        "model.add(Conv2D(128, (3, 3), padding=\"same\", activation=\"relu\"))\n",
        "model.add(BatchNormalization(axis=chanDim))\n",
        "model.add(MaxPooling2D(pool_size=(2, 2)))\n",
        "model.add(Dropout(0.25))\n",
        "\n",
        "model.add(Conv2D(128, (3, 3), padding=\"same\", activation=\"relu\"))\n",
        "model.add(BatchNormalization(axis=chanDim))\n",
        "\n",
        "model.add(Conv2D(128, (3, 3), padding=\"same\", activation=\"relu\"))\n",
        "model.add(BatchNormalization(axis=chanDim))\n",
        "model.add(MaxPooling2D(pool_size=(2, 2)))\n",
        "model.add(Dropout(0.25))\n",
        "\n",
        "model.add(Flatten())\n",
        "\n",
        "model.add(Dense(1024, activation=\"relu\"))\n",
        "model.add(BatchNormalization())\n",
        "model.add(Dropout(0.5))\n",
        "model.add(Dense(10, activation=\"softmax\"))"
      ]
    },
    {
      "cell_type": "code",
      "execution_count": 6,
      "metadata": {
        "colab": {
          "base_uri": "https://localhost:8080/"
        },
        "id": "XD6BKQk8bLEw",
        "outputId": "8501b896-b2b2-4295-c3d4-44da388716ab"
      },
      "outputs": [
        {
          "output_type": "stream",
          "name": "stdout",
          "text": [
            "Model: \"sequential\"\n",
            "_________________________________________________________________\n",
            " Layer (type)                Output Shape              Param #   \n",
            "=================================================================\n",
            " conv2d (Conv2D)             (None, 256, 256, 128)     3584      \n",
            "                                                                 \n",
            " batch_normalization (BatchN  (None, 256, 256, 128)    512       \n",
            " ormalization)                                                   \n",
            "                                                                 \n",
            " max_pooling2d (MaxPooling2D  (None, 85, 85, 128)      0         \n",
            " )                                                               \n",
            "                                                                 \n",
            " dropout (Dropout)           (None, 85, 85, 128)       0         \n",
            "                                                                 \n",
            " conv2d_1 (Conv2D)           (None, 85, 85, 128)       147584    \n",
            "                                                                 \n",
            " batch_normalization_1 (Batc  (None, 85, 85, 128)      512       \n",
            " hNormalization)                                                 \n",
            "                                                                 \n",
            " conv2d_2 (Conv2D)           (None, 85, 85, 128)       147584    \n",
            "                                                                 \n",
            " batch_normalization_2 (Batc  (None, 85, 85, 128)      512       \n",
            " hNormalization)                                                 \n",
            "                                                                 \n",
            " max_pooling2d_1 (MaxPooling  (None, 42, 42, 128)      0         \n",
            " 2D)                                                             \n",
            "                                                                 \n",
            " dropout_1 (Dropout)         (None, 42, 42, 128)       0         \n",
            "                                                                 \n",
            " conv2d_3 (Conv2D)           (None, 42, 42, 128)       147584    \n",
            "                                                                 \n",
            " batch_normalization_3 (Batc  (None, 42, 42, 128)      512       \n",
            " hNormalization)                                                 \n",
            "                                                                 \n",
            " conv2d_4 (Conv2D)           (None, 42, 42, 128)       147584    \n",
            "                                                                 \n",
            " batch_normalization_4 (Batc  (None, 42, 42, 128)      512       \n",
            " hNormalization)                                                 \n",
            "                                                                 \n",
            " max_pooling2d_2 (MaxPooling  (None, 21, 21, 128)      0         \n",
            " 2D)                                                             \n",
            "                                                                 \n",
            " dropout_2 (Dropout)         (None, 21, 21, 128)       0         \n",
            "                                                                 \n",
            " flatten (Flatten)           (None, 56448)             0         \n",
            "                                                                 \n",
            " dense (Dense)               (None, 1024)              57803776  \n",
            "                                                                 \n",
            " batch_normalization_5 (Batc  (None, 1024)             4096      \n",
            " hNormalization)                                                 \n",
            "                                                                 \n",
            " dropout_3 (Dropout)         (None, 1024)              0         \n",
            "                                                                 \n",
            " dense_1 (Dense)             (None, 10)                10250     \n",
            "                                                                 \n",
            "=================================================================\n",
            "Total params: 58,414,602\n",
            "Trainable params: 58,411,274\n",
            "Non-trainable params: 3,328\n",
            "_________________________________________________________________\n"
          ]
        }
      ],
      "source": [
        "model.summary()"
      ]
    },
    {
      "cell_type": "code",
      "execution_count": 7,
      "metadata": {
        "id": "20LhcpEJJ6Se"
      },
      "outputs": [],
      "source": [
        "model.compile(optimizer='adam', loss='categorical_crossentropy', metrics=['accuracy'])"
      ]
    },
    {
      "cell_type": "code",
      "execution_count": 8,
      "metadata": {
        "id": "QtsPqQs0bh97"
      },
      "outputs": [],
      "source": [
        "# Data Agumentation\n",
        "\n",
        "train_dataMaker = ImageDataGenerator(\n",
        "    rescale=1./256,\n",
        "    shear_range=0.2,\n",
        "    zoom_range=0.3,\n",
        "    width_shift_range=0.3,\n",
        "    height_shift_range=0.3,\n",
        "    horizontal_flip=True,\n",
        "    rotation_range=40\n",
        ")\n",
        "\n",
        "validation_dataMaker = ImageDataGenerator(rescale = 1./256)"
      ]
    },
    {
      "cell_type": "code",
      "execution_count": 9,
      "metadata": {
        "colab": {
          "base_uri": "https://localhost:8080/"
        },
        "id": "R10SD4BVBn7X",
        "outputId": "131d1d4e-b9f7-4c37-e2f0-35389128ef7f"
      },
      "outputs": [
        {
          "output_type": "stream",
          "name": "stdout",
          "text": [
            "Found 18345 images belonging to 10 classes.\n",
            "Found 4585 images belonging to 10 classes.\n"
          ]
        }
      ],
      "source": [
        "# Generator\n",
        "\n",
        "train_ds = train_dataMaker.flow_from_directory(\n",
        "    directory = '/content/New Plant Diseases Dataset(Augmented)/train',\n",
        "    color_mode = 'rgb',\n",
        "    interpolation = 'bicubic',\n",
        "    batch_size = 32,\n",
        "    target_size = (256,256),\n",
        "    class_mode = 'categorical',\n",
        ")\n",
        "\n",
        "validation_ds = validation_dataMaker.flow_from_directory(\n",
        "    directory = '/content/New Plant Diseases Dataset(Augmented)/valid',\n",
        "    color_mode = 'rgb',\n",
        "    interpolation = 'bicubic',\n",
        "    batch_size = 32,\n",
        "    target_size = (256,256),\n",
        "    class_mode = 'categorical',\n",
        ")"
      ]
    },
    {
      "cell_type": "code",
      "execution_count": null,
      "metadata": {
        "colab": {
          "base_uri": "https://localhost:8080/"
        },
        "id": "M_7O-32zKKgm",
        "outputId": "3470b18f-af19-4dc5-9839-1cf7187291eb"
      },
      "outputs": [
        {
          "output_type": "stream",
          "name": "stdout",
          "text": [
            "Epoch 1/40\n",
            "574/574 [==============================] - 471s 787ms/step - loss: 1.3077 - accuracy: 0.6001 - val_loss: 1.3180 - val_accuracy: 0.6266\n",
            "Epoch 2/40\n",
            "574/574 [==============================] - 443s 772ms/step - loss: 0.7299 - accuracy: 0.7597 - val_loss: 4.4568 - val_accuracy: 0.4031\n",
            "Epoch 3/40\n",
            "574/574 [==============================] - 438s 763ms/step - loss: 0.5805 - accuracy: 0.8086 - val_loss: 8.0306 - val_accuracy: 0.2567\n",
            "Epoch 4/40\n",
            "574/574 [==============================] - 442s 770ms/step - loss: 0.5076 - accuracy: 0.8299 - val_loss: 2.4384 - val_accuracy: 0.5710\n",
            "Epoch 5/40\n",
            "574/574 [==============================] - 440s 766ms/step - loss: 0.4500 - accuracy: 0.8463 - val_loss: 1.3115 - val_accuracy: 0.7152\n",
            "Epoch 6/40\n",
            "574/574 [==============================] - 441s 768ms/step - loss: 0.4181 - accuracy: 0.8593 - val_loss: 2.2242 - val_accuracy: 0.5834\n",
            "Epoch 7/40\n",
            "574/574 [==============================] - 437s 762ms/step - loss: 0.3786 - accuracy: 0.8703 - val_loss: 5.1468 - val_accuracy: 0.3948\n",
            "Epoch 8/40\n",
            "370/574 [==================>...........] - ETA: 2:32 - loss: 0.3556 - accuracy: 0.8808"
          ]
        }
      ],
      "source": [
        "history = model.fit(\n",
        "    train_ds,\n",
        "    epochs = 40,\n",
        "    validation_data = validation_ds,\n",
        "    steps_per_epoch=len(train_ds),\n",
        "    validation_steps=len(validation_ds),\n",
        "  )"
      ]
    },
    {
      "cell_type": "code",
      "execution_count": null,
      "metadata": {
        "id": "f1bBtCQYK71c"
      },
      "outputs": [],
      "source": [
        "import matplotlib.pyplot as plt\n",
        "%matplotlib inline\n",
        "\n",
        "plt.plot(history.history['accuracy'], color = 'red', label = 'train')\n",
        "plt.plot(history.history['val_accuracy'], color = 'green', label = 'validation')\n",
        "plt.legend()\n",
        "plt.show()"
      ]
    },
    {
      "cell_type": "code",
      "execution_count": null,
      "metadata": {
        "id": "TA27tdUamjzk"
      },
      "outputs": [],
      "source": [
        "plt.plot(history.history['loss'], color = 'red', label = 'train')\n",
        "plt.plot(history.history['val_loss'], color = 'green', label = 'validation')\n",
        "plt.legend()\n",
        "plt.show()"
      ]
    },
    {
      "cell_type": "code",
      "execution_count": null,
      "metadata": {
        "id": "ezn9b-D-1HFZ"
      },
      "outputs": [],
      "source": [
        "import cv2\n",
        "\n",
        "test_img1 = cv2.imread('/content/Early Blight Spot.jpg')\n",
        "test_img2 = cv2.imread('/content/Leaf Mold.jpg')\n",
        "test_img3 = cv2.imread('/content/Septoria Leaf Spot.jpg')\n",
        "plt.imshow(test_img1)\n",
        "plt.imshow(test_img2)\n",
        "plt.imshow(test_img3)"
      ]
    },
    {
      "cell_type": "code",
      "source": [
        "test_img1 = cv2.resize(test_img1, (256,256))\n",
        "test_input = test_img1.reshape((1,256,256,3))"
      ],
      "metadata": {
        "id": "SgfiZrI8RkpG"
      },
      "execution_count": null,
      "outputs": []
    },
    {
      "cell_type": "code",
      "source": [
        "model.predict(test_input)"
      ],
      "metadata": {
        "id": "wMGEtMLrRobn"
      },
      "execution_count": null,
      "outputs": []
    },
    {
      "cell_type": "code",
      "source": [
        "scores = model.evaluate(validation_ds)\n",
        "print(f\"Test Accuracy: {round(scores[1],4)*100}%\")"
      ],
      "metadata": {
        "id": "2bi2RINGUhF2"
      },
      "execution_count": null,
      "outputs": []
    },
    {
      "cell_type": "code",
      "source": [],
      "metadata": {
        "id": "YmmjG-CUtxtb"
      },
      "execution_count": null,
      "outputs": []
    }
  ],
  "metadata": {
    "accelerator": "GPU",
    "colab": {
      "provenance": [],
      "gpuType": "T4"
    },
    "kernelspec": {
      "display_name": "Python 3",
      "name": "python3"
    },
    "language_info": {
      "name": "python"
    }
  },
  "nbformat": 4,
  "nbformat_minor": 0
}